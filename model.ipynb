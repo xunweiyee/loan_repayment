{
 "cells": [
  {
   "cell_type": "code",
   "execution_count": 1,
   "metadata": {},
   "outputs": [],
   "source": [
    "import pandas as pd\n",
    "import numpy as np\n",
    "import matplotlib.pyplot as plt\n",
    "from sklearn.model_selection import train_test_split\n",
    "from time import time\n",
    "import warnings\n",
    "warnings.filterwarnings('ignore')\n",
    "seed = 42\n",
    "\n",
    "loan = pd.read_pickle(\"input.pickle\")\n",
    "X = loan.drop('loanStatus', axis=1)\n",
    "y = loan['loanStatus']"
   ]
  },
  {
   "cell_type": "markdown",
   "metadata": {},
   "source": [
    "### Resampling"
   ]
  },
  {
   "cell_type": "code",
   "execution_count": 2,
   "metadata": {},
   "outputs": [],
   "source": [
    "from imblearn.over_sampling import SMOTE, ADASYN\n",
    "from collections import Counter"
   ]
  },
  {
   "cell_type": "code",
   "execution_count": 3,
   "metadata": {},
   "outputs": [
    {
     "name": "stdout",
     "output_type": "stream",
     "text": [
      "[(0.0, 12135), (1.0, 12135)]\n"
     ]
    }
   ],
   "source": [
    "X_resampled, y_resampled = SMOTE().fit_resample(X, y)\n",
    "# X_resampled, y_resampled = ADASYN().fit_resample(X, y)\n",
    "X_train, X_test, y_train, y_test = train_test_split(X_resampled, y_resampled, test_size=0.2, random_state=42)\n",
    "\n",
    "print(sorted(Counter(y_resampled).items()))"
   ]
  },
  {
   "cell_type": "markdown",
   "metadata": {},
   "source": [
    "## Preprocessing"
   ]
  },
  {
   "cell_type": "code",
   "execution_count": 4,
   "metadata": {},
   "outputs": [],
   "source": [
    "from sklearn.pipeline import Pipeline\n",
    "from sklearn.impute import SimpleImputer\n",
    "from sklearn.preprocessing import MinMaxScaler, OneHotEncoder\n",
    "from sklearn.compose import ColumnTransformer"
   ]
  },
  {
   "cell_type": "code",
   "execution_count": 5,
   "metadata": {},
   "outputs": [],
   "source": [
    "numeric_transformer = Pipeline(\n",
    "    steps=[('scaler', MinMaxScaler())\n",
    "          ])\n",
    "\n",
    "# categorical_transformer = Pipeline(\n",
    "#     steps=[('onehot', OneHotEncoder(handle_unknown='ignore'))]\n",
    "# )"
   ]
  },
  {
   "cell_type": "code",
   "execution_count": 6,
   "metadata": {},
   "outputs": [],
   "source": [
    "numeric_features = loan.select_dtypes(include=['int64', 'float64', 'uint8']).columns\n",
    "categorical_features = loan.select_dtypes(include=['object', 'category']).columns"
   ]
  },
  {
   "cell_type": "code",
   "execution_count": 7,
   "metadata": {},
   "outputs": [],
   "source": [
    "from sklearn.compose import ColumnTransformer\n",
    "\n",
    "preprocessor = ColumnTransformer(\n",
    "    transformers=[\n",
    "        ('num', numeric_transformer, numeric_features),\n",
    "#         ('cat', categorical_transformer, categorical_features)\n",
    "    ])"
   ]
  },
  {
   "cell_type": "markdown",
   "metadata": {},
   "source": [
    "## Model Training"
   ]
  },
  {
   "cell_type": "code",
   "execution_count": 8,
   "metadata": {},
   "outputs": [],
   "source": [
    "from sklearn.svm import LinearSVC\n",
    "from sklearn.tree import DecisionTreeClassifier\n",
    "from sklearn.experimental import enable_hist_gradient_boosting\n",
    "from sklearn.ensemble import RandomForestClassifier, AdaBoostClassifier, GradientBoostingClassifier, HistGradientBoostingClassifier\n",
    "from xgboost import XGBClassifier\n",
    "from lightgbm import LGBMClassifier\n",
    "from catboost import CatBoostClassifier\n",
    "from sklearn.model_selection import KFold, cross_validate\n",
    "\n",
    "dt = DecisionTreeClassifier(random_state=seed)\n",
    "rf = RandomForestClassifier(random_state=seed)\n",
    "base_estim = DecisionTreeClassifier()\n",
    "ab = AdaBoostClassifier(random_state=seed)\n",
    "gbm = GradientBoostingClassifier(random_state=seed)\n",
    "xgb = XGBClassifier(random_state=seed)\n",
    "lgbm = LGBMClassifier(random_state=seed)\n",
    "cb = CatBoostClassifier(random_state=seed)\n",
    "hgbm = HistGradientBoostingClassifier(random_state=seed)"
   ]
  },
  {
   "cell_type": "code",
   "execution_count": null,
   "metadata": {},
   "outputs": [],
   "source": [
    "models = [dt, rf, ab, gbm, hgbm, xgb, lgbm, cb]\n",
    "model_names = [i.__class__.__name__ for i in models]\n",
    "es_models = ['XGBClassifier', 'LGBMClassifier', 'CatBoostClassifier']\n",
    "\n",
    "df_results = pd.DataFrame(columns=['accuracy', 'std', 'precision', 'recall', 'roc_auc', 'runtime'])\n",
    "for m, n in zip(models, model_names):\n",
    "    \n",
    "    start_time = time()\n",
    "    kfold = KFold(n_splits=10, random_state=seed)\n",
    "#     results = cross_val_score(m, X_train, y_train, cv=kfold)\n",
    "    results = cross_validate(m, X_train, y_train, cv=kfold, scoring=['accuracy', 'precision', 'recall', 'roc_auc'])\n",
    "    \n",
    "    run_time = time() - start_time\n",
    "        \n",
    "    df_results.loc[n] = [results['test_accuracy'].mean(), results['test_accuracy'].std(), \n",
    "                         results['test_precision'].mean(), results['test_recall'].mean(),\n",
    "                         results['test_roc_auc'].mean(), run_time]\n",
    "    \n",
    "    del m\n",
    "    \n",
    "df_results.to_pickle('results.pickle')    "
   ]
  },
  {
   "cell_type": "code",
   "execution_count": 10,
   "metadata": {},
   "outputs": [
    {
     "data": {
      "text/html": [
       "<div>\n",
       "<style scoped>\n",
       "    .dataframe tbody tr th:only-of-type {\n",
       "        vertical-align: middle;\n",
       "    }\n",
       "\n",
       "    .dataframe tbody tr th {\n",
       "        vertical-align: top;\n",
       "    }\n",
       "\n",
       "    .dataframe thead th {\n",
       "        text-align: right;\n",
       "    }\n",
       "</style>\n",
       "<table border=\"1\" class=\"dataframe\">\n",
       "  <thead>\n",
       "    <tr style=\"text-align: right;\">\n",
       "      <th></th>\n",
       "      <th>accuracy</th>\n",
       "      <th>std</th>\n",
       "      <th>precision</th>\n",
       "      <th>recall</th>\n",
       "      <th>roc_auc</th>\n",
       "      <th>runtime</th>\n",
       "    </tr>\n",
       "  </thead>\n",
       "  <tbody>\n",
       "    <tr>\n",
       "      <th>XGBClassifier</th>\n",
       "      <td>0.990420</td>\n",
       "      <td>0.002113</td>\n",
       "      <td>0.987812</td>\n",
       "      <td>0.993100</td>\n",
       "      <td>0.999348</td>\n",
       "      <td>132.036143</td>\n",
       "    </tr>\n",
       "    <tr>\n",
       "      <th>LGBMClassifier</th>\n",
       "      <td>0.990060</td>\n",
       "      <td>0.001677</td>\n",
       "      <td>0.987093</td>\n",
       "      <td>0.993086</td>\n",
       "      <td>0.999285</td>\n",
       "      <td>70.534277</td>\n",
       "    </tr>\n",
       "    <tr>\n",
       "      <th>HistGradientBoostingClassifier</th>\n",
       "      <td>0.989854</td>\n",
       "      <td>0.001152</td>\n",
       "      <td>0.987296</td>\n",
       "      <td>0.992459</td>\n",
       "      <td>0.999281</td>\n",
       "      <td>323.293178</td>\n",
       "    </tr>\n",
       "    <tr>\n",
       "      <th>CatBoostClassifier</th>\n",
       "      <td>0.989390</td>\n",
       "      <td>0.001327</td>\n",
       "      <td>0.987288</td>\n",
       "      <td>0.991534</td>\n",
       "      <td>0.999199</td>\n",
       "      <td>230.679123</td>\n",
       "    </tr>\n",
       "    <tr>\n",
       "      <th>RandomForestClassifier</th>\n",
       "      <td>0.986300</td>\n",
       "      <td>0.002074</td>\n",
       "      <td>0.985389</td>\n",
       "      <td>0.987171</td>\n",
       "      <td>0.998985</td>\n",
       "      <td>41.183008</td>\n",
       "    </tr>\n",
       "    <tr>\n",
       "      <th>GradientBoostingClassifier</th>\n",
       "      <td>0.979399</td>\n",
       "      <td>0.002467</td>\n",
       "      <td>0.979195</td>\n",
       "      <td>0.979572</td>\n",
       "      <td>0.997889</td>\n",
       "      <td>99.883135</td>\n",
       "    </tr>\n",
       "    <tr>\n",
       "      <th>AdaBoostClassifier</th>\n",
       "      <td>0.975382</td>\n",
       "      <td>0.003923</td>\n",
       "      <td>0.981462</td>\n",
       "      <td>0.968933</td>\n",
       "      <td>0.996675</td>\n",
       "      <td>23.163872</td>\n",
       "    </tr>\n",
       "    <tr>\n",
       "      <th>DecisionTreeClassifier</th>\n",
       "      <td>0.971982</td>\n",
       "      <td>0.003492</td>\n",
       "      <td>0.976314</td>\n",
       "      <td>0.967376</td>\n",
       "      <td>0.971945</td>\n",
       "      <td>7.725065</td>\n",
       "    </tr>\n",
       "  </tbody>\n",
       "</table>\n",
       "</div>"
      ],
      "text/plain": [
       "                                accuracy       std  precision    recall  \\\n",
       "XGBClassifier                   0.990420  0.002113   0.987812  0.993100   \n",
       "LGBMClassifier                  0.990060  0.001677   0.987093  0.993086   \n",
       "HistGradientBoostingClassifier  0.989854  0.001152   0.987296  0.992459   \n",
       "CatBoostClassifier              0.989390  0.001327   0.987288  0.991534   \n",
       "RandomForestClassifier          0.986300  0.002074   0.985389  0.987171   \n",
       "GradientBoostingClassifier      0.979399  0.002467   0.979195  0.979572   \n",
       "AdaBoostClassifier              0.975382  0.003923   0.981462  0.968933   \n",
       "DecisionTreeClassifier          0.971982  0.003492   0.976314  0.967376   \n",
       "\n",
       "                                 roc_auc     runtime  \n",
       "XGBClassifier                   0.999348  132.036143  \n",
       "LGBMClassifier                  0.999285   70.534277  \n",
       "HistGradientBoostingClassifier  0.999281  323.293178  \n",
       "CatBoostClassifier              0.999199  230.679123  \n",
       "RandomForestClassifier          0.998985   41.183008  \n",
       "GradientBoostingClassifier      0.997889   99.883135  \n",
       "AdaBoostClassifier              0.996675   23.163872  \n",
       "DecisionTreeClassifier          0.971945    7.725065  "
      ]
     },
     "execution_count": 10,
     "metadata": {},
     "output_type": "execute_result"
    }
   ],
   "source": [
    "df_results.sort_values(by='accuracy', ascending=False)"
   ]
  },
  {
   "cell_type": "markdown",
   "metadata": {},
   "source": [
    "### Model Evaluation"
   ]
  },
  {
   "cell_type": "code",
   "execution_count": 11,
   "metadata": {},
   "outputs": [],
   "source": [
    "from sklearn import metrics"
   ]
  },
  {
   "cell_type": "code",
   "execution_count": 12,
   "metadata": {},
   "outputs": [
    {
     "name": "stdout",
     "output_type": "stream",
     "text": [
      "Accuracy: 0.9917593737124022\n",
      "Recall: 0.9926289926289926\n"
     ]
    }
   ],
   "source": [
    "model = XGBClassifier()\n",
    "model.fit(X_train, y_train)\n",
    "\n",
    "y_pred_class = model.predict(X_test)\n",
    "print(f\"Accuracy: {metrics.accuracy_score(y_test, y_pred_class)}\")\n",
    "print(f\"Recall: {metrics.recall_score(y_test, y_pred_class)}\")"
   ]
  },
  {
   "cell_type": "code",
   "execution_count": 13,
   "metadata": {},
   "outputs": [
    {
     "name": "stdout",
     "output_type": "stream",
     "text": [
      "[[2390   22]\n",
      " [  18 2424]]\n"
     ]
    }
   ],
   "source": [
    "confusion = metrics.confusion_matrix(y_test, y_pred_class)\n",
    "print(confusion)\n",
    "#[row, column]\n",
    "TP = confusion[1, 1]\n",
    "TN = confusion[0, 0]\n",
    "FP = confusion[0, 1]\n",
    "FN = confusion[1, 0]"
   ]
  },
  {
   "cell_type": "code",
   "execution_count": 14,
   "metadata": {},
   "outputs": [
    {
     "data": {
      "image/png": "[encoded data removed]",
      "text/plain": [
       "<Figure size 432x288 with 1 Axes>"
      ]
     },
     "metadata": {
      "needs_background": "light"
     },
     "output_type": "display_data"
    }
   ],
   "source": [
    "y_pred_prob = model.predict_proba(X_test)[:, 1]\n",
    "fpr, tpr, thresholds = metrics.roc_curve(y_test, y_pred_prob)\n",
    "\n",
    "plt.plot(fpr, tpr)\n",
    "plt.xlim([0.0, 1.0])\n",
    "plt.ylim([0.0, 1.0])\n",
    "plt.rcParams['font.size'] = 12\n",
    "plt.title('ROC curve ')\n",
    "plt.xlabel('False Positive Rate (1 - Specificity)')\n",
    "plt.ylabel('True Positive Rate (Sensitivity)')\n",
    "plt.grid(True)"
   ]
  },
  {
   "cell_type": "markdown",
   "metadata": {},
   "source": [
    "### Decision Tree Feature Importance"
   ]
  },
  {
   "cell_type": "code",
   "execution_count": 15,
   "metadata": {},
   "outputs": [],
   "source": [
    "from sklearn.tree import DecisionTreeClassifier\n",
    "from sklearn.ensemble import RandomForestClassifier"
   ]
  },
  {
   "cell_type": "code",
   "execution_count": 16,
   "metadata": {},
   "outputs": [],
   "source": [
    "rankers = [DecisionTreeClassifier(), RandomForestClassifier(), XGBClassifier()]"
   ]
  },
  {
   "cell_type": "code",
   "execution_count": 17,
   "metadata": {},
   "outputs": [
    {
     "data": {
      "image/png": "[encoded data removed]",
      "text/plain": [
       "<Figure size 432x288 with 1 Axes>"
      ]
     },
     "metadata": {
      "needs_background": "light"
     },
     "output_type": "display_data"
    },
    {
     "data": {
      "image/png": "[encoded data removed]",
      "text/plain": [
       "<Figure size 432x288 with 1 Axes>"
      ]
     },
     "metadata": {
      "needs_background": "light"
     },
     "output_type": "display_data"
    },
    {
     "data": {
      "image/png": "[encoded data removed]",
      "text/plain": [
       "<Figure size 432x288 with 1 Axes>"
      ]
     },
     "metadata": {
      "needs_background": "light"
     },
     "output_type": "display_data"
    }
   ],
   "source": [
    "for m in rankers:\n",
    "    model = m\n",
    "    model.fit(X, y)\n",
    "    importance = model.feature_importances_\n",
    "\n",
    "    ranked = list(enumerate(importance))\n",
    "    ranked = sorted(ranked, key=lambda x:x[1], reverse=True)\n",
    "    ranked = list(zip(*ranked[:10]))\n",
    "\n",
    "    plt.title(m.__class__.__name__)\n",
    "    plt.barh([loan.columns[i] for i in ranked[0]], ranked[1])\n",
    "    plt.show()"
   ]
  },
  {
   "cell_type": "markdown",
   "metadata": {},
   "source": [
    "Features ranked important includes `Pending`, `installment`, `checked`."
   ]
  }
 ],
 "metadata": {
  "kernelspec": {
   "display_name": "Python 3.8.5 64-bit ('assessment': conda)",
   "language": "python",
   "name": "python38564bitassessmentconda4f0834d4e18743cdaa8ce34f985805de"
  },
  "language_info": {
   "codemirror_mode": {
    "name": "ipython",
    "version": 3
   },
   "file_extension": ".py",
   "mimetype": "text/x-python",
   "name": "python",
   "nbconvert_exporter": "python",
   "pygments_lexer": "ipython3",
   "version": "3.8.5"
  }
 },
 "nbformat": 4,
 "nbformat_minor": 4
}
